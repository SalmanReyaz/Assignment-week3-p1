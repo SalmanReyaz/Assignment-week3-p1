{
 "cells": [
  {
   "cell_type": "markdown",
   "id": "577efa77",
   "metadata": {},
   "source": [
    "## Q1.Which keyword is used to create a function? Create a function to return a list of odd numbers in the\n",
    "## range of 1 to 25."
   ]
  },
  {
   "cell_type": "code",
   "execution_count": 1,
   "id": "cb855cff",
   "metadata": {},
   "outputs": [],
   "source": [
    "def get_odd_numbers():\n",
    "    odd_numbers = []\n",
    "    for number in range(1,25):\n",
    "        if number% 2!=0:\n",
    "            odd_numbers.append(number)\n",
    "    return odd_numbers        "
   ]
  },
  {
   "cell_type": "code",
   "execution_count": 2,
   "id": "e2c66fbe",
   "metadata": {},
   "outputs": [
    {
     "name": "stdout",
     "output_type": "stream",
     "text": [
      "[1, 3, 5, 7, 9, 11, 13, 15, 17, 19, 21, 23]\n"
     ]
    }
   ],
   "source": [
    "print(get_odd_numbers())"
   ]
  },
  {
   "cell_type": "markdown",
   "id": "d8e37387",
   "metadata": {},
   "source": [
    "# Q2. ### Why *args and **kwargs is used in some functions? Create a function each for *args and **kwargs \n",
    "### to demonstrate their use"
   ]
  },
  {
   "cell_type": "code",
   "execution_count": null,
   "id": "1add4848",
   "metadata": {},
   "outputs": [],
   "source": [
    "*args :-- n of number of arguments passed inside the function and python is used to a pass a variable number of arguments to a function.\n",
    "    \n",
    "    \n",
    "**kwargs:- kwargs is use to making a dictionary and python is used to pass a keyworded variable length argument list.   \n",
    "    \n",
    "    \n",
    "    "
   ]
  },
  {
   "cell_type": "code",
   "execution_count": 63,
   "id": "864fd317",
   "metadata": {},
   "outputs": [],
   "source": [
    "#*args\n",
    "\n",
    "\n",
    "def test(*args):\n",
    "    return args"
   ]
  },
  {
   "cell_type": "code",
   "execution_count": 64,
   "id": "b4a791ba",
   "metadata": {},
   "outputs": [
    {
     "data": {
      "text/plain": [
       "tuple"
      ]
     },
     "execution_count": 64,
     "metadata": {},
     "output_type": "execute_result"
    }
   ],
   "source": [
    "type(test())"
   ]
  },
  {
   "cell_type": "code",
   "execution_count": 66,
   "id": "b66ad486",
   "metadata": {},
   "outputs": [
    {
     "data": {
      "text/plain": [
       "(1, 3, 4, 5, 6, 7, 8, 10, 34)"
      ]
     },
     "execution_count": 66,
     "metadata": {},
     "output_type": "execute_result"
    }
   ],
   "source": [
    "test(1,3,4,5,6,7,8,10,34)"
   ]
  },
  {
   "cell_type": "code",
   "execution_count": 67,
   "id": "f3d03004",
   "metadata": {},
   "outputs": [
    {
     "data": {
      "text/plain": [
       "(2, 35, 5, 6, [34, 6, 2, 6, 7, 747, 74], True, 35.6, (35+5j))"
      ]
     },
     "execution_count": 67,
     "metadata": {},
     "output_type": "execute_result"
    }
   ],
   "source": [
    "test(2,35,5,6,[34,6,2,6,7,747,74],True,35.6,35+5j)"
   ]
  },
  {
   "cell_type": "code",
   "execution_count": 75,
   "id": "77746811",
   "metadata": {},
   "outputs": [],
   "source": [
    "def test1(*args,a):\n",
    "    return args,a"
   ]
  },
  {
   "cell_type": "code",
   "execution_count": 100,
   "id": "eb01dfdd",
   "metadata": {},
   "outputs": [
    {
     "data": {
      "text/plain": [
       "(([2, 4, 5, 'Python', 'App', 'yield'],), 34)"
      ]
     },
     "execution_count": 100,
     "metadata": {},
     "output_type": "execute_result"
    }
   ],
   "source": [
    "test1([2,4,5,\"Python\",\"App\",\"yield\"],a=34)"
   ]
  },
  {
   "cell_type": "code",
   "execution_count": 85,
   "id": "e4dc7d83",
   "metadata": {},
   "outputs": [],
   "source": [
    "def test2(*args,a):\n",
    "    return(args,a)"
   ]
  },
  {
   "cell_type": "code",
   "execution_count": 86,
   "id": "da091e9a",
   "metadata": {},
   "outputs": [
    {
     "data": {
      "text/plain": [
       "((3, 4, 52, 63, 53), 89.4)"
      ]
     },
     "execution_count": 86,
     "metadata": {},
     "output_type": "execute_result"
    }
   ],
   "source": [
    "test2(3,4,52,63,53,a=89.4)"
   ]
  },
  {
   "cell_type": "code",
   "execution_count": 87,
   "id": "c200550d",
   "metadata": {},
   "outputs": [],
   "source": [
    "def test3(c,d,a=24,b=38):\n",
    "    return a,b,c,d"
   ]
  },
  {
   "cell_type": "code",
   "execution_count": 88,
   "id": "516161ea",
   "metadata": {},
   "outputs": [
    {
     "data": {
      "text/plain": [
       "(24, 38, 3, 6)"
      ]
     },
     "execution_count": 88,
     "metadata": {},
     "output_type": "execute_result"
    }
   ],
   "source": [
    "test3(3,6)"
   ]
  },
  {
   "cell_type": "code",
   "execution_count": 89,
   "id": "389ecbb5",
   "metadata": {},
   "outputs": [
    {
     "data": {
      "text/plain": [
       "(24, 38, 3.5, 55.5)"
      ]
     },
     "execution_count": 89,
     "metadata": {},
     "output_type": "execute_result"
    }
   ],
   "source": [
    "test3(3.5,55.5)"
   ]
  },
  {
   "cell_type": "code",
   "execution_count": 91,
   "id": "b5c6638b",
   "metadata": {},
   "outputs": [
    {
     "data": {
      "text/plain": [
       "('learning', True, 'science', 'data')"
      ]
     },
     "execution_count": 91,
     "metadata": {},
     "output_type": "execute_result"
    }
   ],
   "source": [
    "test3(\"science\",\"data\",\"learning\",True)"
   ]
  },
  {
   "cell_type": "code",
   "execution_count": 92,
   "id": "302fd9b9",
   "metadata": {},
   "outputs": [
    {
     "data": {
      "text/plain": [
       "(5645, 38, 345, 55)"
      ]
     },
     "execution_count": 92,
     "metadata": {},
     "output_type": "execute_result"
    }
   ],
   "source": [
    "test3(345,55,a=5645)"
   ]
  },
  {
   "cell_type": "code",
   "execution_count": 93,
   "id": "c7ffaa7b",
   "metadata": {},
   "outputs": [
    {
     "data": {
      "text/plain": [
       "(45, 38, 12, 5)"
      ]
     },
     "execution_count": 93,
     "metadata": {},
     "output_type": "execute_result"
    }
   ],
   "source": [
    "test3(12,5,a=45)"
   ]
  },
  {
   "cell_type": "code",
   "execution_count": 94,
   "id": "3538e9f9",
   "metadata": {},
   "outputs": [],
   "source": [
    "#**kwargs\n",
    "\n",
    "\n",
    "def test5(**kwargs):\n",
    "    return kwargs"
   ]
  },
  {
   "cell_type": "code",
   "execution_count": 83,
   "id": "dedad43e",
   "metadata": {},
   "outputs": [
    {
     "data": {
      "text/plain": [
       "dict"
      ]
     },
     "execution_count": 83,
     "metadata": {},
     "output_type": "execute_result"
    }
   ],
   "source": [
    "type(test5())"
   ]
  },
  {
   "cell_type": "code",
   "execution_count": 84,
   "id": "9a09fb62",
   "metadata": {},
   "outputs": [
    {
     "data": {
      "text/plain": [
       "{'a': [1, 4, 6, 7],\n",
       " 'b': ('data science', 'jupyter', 'machine learning'),\n",
       " 'c': (34.65, 3.4, 35),\n",
       " 'd': ((3+4j), (5+5j), (2+2j))}"
      ]
     },
     "execution_count": 84,
     "metadata": {},
     "output_type": "execute_result"
    }
   ],
   "source": [
    "test5(a=[1,4,6,7],b=(\"data science\",\"jupyter\",\"machine learning\"),c=(34.65,3.4,35),d=(3+4j,5+5j,2+2j))"
   ]
  },
  {
   "cell_type": "code",
   "execution_count": 98,
   "id": "6a487b96",
   "metadata": {},
   "outputs": [
    {
     "data": {
      "text/plain": [
       "{'p': {True, 5, 5.56, 34},\n",
       " 'q': (45, 64, 54, (4+6j)),\n",
       " 'r': [3, 5, 6, 'numpy', 'pandas', 'seaborn']}"
      ]
     },
     "execution_count": 98,
     "metadata": {},
     "output_type": "execute_result"
    }
   ],
   "source": [
    "test5(p={34,5,5.56,True},q=(45,64,54,4+6j),r=[3,5,6,\"numpy\",\"pandas\",\"seaborn\"])"
   ]
  },
  {
   "cell_type": "markdown",
   "id": "e47845ab",
   "metadata": {},
   "source": [
    "## Q8. Write a python program to check whether a given number is Palindrome or not using a while loop."
   ]
  },
  {
   "cell_type": "code",
   "execution_count": 15,
   "id": "cda902d0",
   "metadata": {},
   "outputs": [],
   "source": [
    "def palindrome(s):\n",
    "    i = 0\n",
    "    while i <= len(s)/2:\n",
    "        if s[i] != s[-i - 1]:\n",
    "            return \"This is not palindrome\"\n",
    "        i +=1\n",
    "        return \"This is palindrome\""
   ]
  },
  {
   "cell_type": "code",
   "execution_count": 23,
   "id": "f62ce2c8",
   "metadata": {},
   "outputs": [],
   "source": [
    "s = \"Data Science\""
   ]
  },
  {
   "cell_type": "code",
   "execution_count": 24,
   "id": "1d75e7b9",
   "metadata": {},
   "outputs": [
    {
     "data": {
      "text/plain": [
       "'This is not palindrome'"
      ]
     },
     "execution_count": 24,
     "metadata": {},
     "output_type": "execute_result"
    }
   ],
   "source": [
    "palindrome(s)"
   ]
  },
  {
   "cell_type": "code",
   "execution_count": 25,
   "id": "b13c7cb6",
   "metadata": {},
   "outputs": [],
   "source": [
    "s = \"pwskills\""
   ]
  },
  {
   "cell_type": "code",
   "execution_count": 26,
   "id": "0c996358",
   "metadata": {},
   "outputs": [
    {
     "data": {
      "text/plain": [
       "'This is not palindrome'"
      ]
     },
     "execution_count": 26,
     "metadata": {},
     "output_type": "execute_result"
    }
   ],
   "source": [
    "palindrome(s)"
   ]
  },
  {
   "cell_type": "code",
   "execution_count": 27,
   "id": "96bff218",
   "metadata": {},
   "outputs": [],
   "source": [
    "s = \"dad\""
   ]
  },
  {
   "cell_type": "code",
   "execution_count": 28,
   "id": "e9eabf78",
   "metadata": {},
   "outputs": [
    {
     "data": {
      "text/plain": [
       "'This is palindrome'"
      ]
     },
     "execution_count": 28,
     "metadata": {},
     "output_type": "execute_result"
    }
   ],
   "source": [
    "palindrome(s)"
   ]
  },
  {
   "cell_type": "code",
   "execution_count": 31,
   "id": "5a471ab9",
   "metadata": {},
   "outputs": [],
   "source": [
    "s = \"boss\""
   ]
  },
  {
   "cell_type": "code",
   "execution_count": 32,
   "id": "01a8cd1f",
   "metadata": {},
   "outputs": [
    {
     "data": {
      "text/plain": [
       "'This is not palindrome'"
      ]
     },
     "execution_count": 32,
     "metadata": {},
     "output_type": "execute_result"
    }
   ],
   "source": [
    "palindrome(s)"
   ]
  },
  {
   "cell_type": "markdown",
   "id": "63eaa906",
   "metadata": {},
   "source": [
    "### Q9.  Write a code to print odd numbers from 1 to 100 using list comprehension"
   ]
  },
  {
   "cell_type": "code",
   "execution_count": 4,
   "id": "95d0611b",
   "metadata": {},
   "outputs": [],
   "source": [
    "odd_list = list(filter(lambda x: x%2!=0,range(1,101)))"
   ]
  },
  {
   "cell_type": "code",
   "execution_count": 5,
   "id": "035f809f",
   "metadata": {},
   "outputs": [
    {
     "name": "stdout",
     "output_type": "stream",
     "text": [
      "[1, 3, 5, 7, 9, 11, 13, 15, 17, 19, 21, 23, 25, 27, 29, 31, 33, 35, 37, 39, 41, 43, 45, 47, 49, 51, 53, 55, 57, 59, 61, 63, 65, 67, 69, 71, 73, 75, 77, 79, 81, 83, 85, 87, 89, 91, 93, 95, 97, 99]\n"
     ]
    }
   ],
   "source": [
    "print(odd_list)"
   ]
  },
  {
   "cell_type": "markdown",
   "id": "4c4621af",
   "metadata": {},
   "source": [
    "Q7. Write a List Comprehension to iterate through the given string: ‘pwskills’.\n",
    "    Expected output: ['p', 'w', 's', 'k', 'i', 'l', 'l', 's'] "
   ]
  },
  {
   "cell_type": "code",
   "execution_count": 2,
   "id": "ac39de9e",
   "metadata": {},
   "outputs": [],
   "source": [
    "l = \"pwskills\""
   ]
  },
  {
   "cell_type": "code",
   "execution_count": 3,
   "id": "b4ad95cd",
   "metadata": {},
   "outputs": [
    {
     "data": {
      "text/plain": [
       "'pwskills'"
      ]
     },
     "execution_count": 3,
     "metadata": {},
     "output_type": "execute_result"
    }
   ],
   "source": [
    "l"
   ]
  },
  {
   "cell_type": "code",
   "execution_count": 7,
   "id": "0546db5d",
   "metadata": {},
   "outputs": [
    {
     "data": {
      "text/plain": [
       "['p', 'w', 's', 'k', 'i', 'l', 'l', 's']"
      ]
     },
     "execution_count": 7,
     "metadata": {},
     "output_type": "execute_result"
    }
   ],
   "source": [
    "list(l) "
   ]
  },
  {
   "cell_type": "code",
   "execution_count": null,
   "id": "d998f003",
   "metadata": {},
   "outputs": [],
   "source": []
  },
  {
   "cell_type": "code",
   "execution_count": 9,
   "id": "7de10b5b",
   "metadata": {},
   "outputs": [
    {
     "data": {
      "text/plain": [
       "['p', 'w', 's', 'k', 'i', 'l', 'l', 's']"
      ]
     },
     "execution_count": 9,
     "metadata": {},
     "output_type": "execute_result"
    }
   ],
   "source": [
    "list(map(lambda l: l.lower(),l))         "
   ]
  },
  {
   "cell_type": "code",
   "execution_count": null,
   "id": "fdfbc949",
   "metadata": {},
   "outputs": [],
   "source": []
  },
  {
   "cell_type": "markdown",
   "id": "97d4626e",
   "metadata": {},
   "source": [
    "# Q4. ### What is a generator function in python? Why yield keyword is used? Give an example of a generator \n",
    "### function.\n"
   ]
  },
  {
   "cell_type": "markdown",
   "id": "19ced1c7",
   "metadata": {},
   "source": [
    "## Generator generator function:--  Generation function is a special type of function. If i reduce memory consumption then i choose genrator function because it take less memory consumption and function one by one,one by one give you outcome stored the\n",
    "## data in not give in once time is called generator function. \n",
    "\n",
    "\n",
    "## Yield :- yield is a special reserved keyword that helps you create generator function to making  generate.\n",
    "    "
   ]
  },
  {
   "cell_type": "code",
   "execution_count": 6,
   "id": "3fa98cab",
   "metadata": {},
   "outputs": [],
   "source": [
    "def test_fib(n):\n",
    "    a,b = 0,1\n",
    "    for i in range(n):\n",
    "        yield a\n",
    "        a,b = b, a+b"
   ]
  },
  {
   "cell_type": "code",
   "execution_count": 7,
   "id": "948ad673",
   "metadata": {},
   "outputs": [
    {
     "data": {
      "text/plain": [
       "<generator object test_fib at 0x000001E5D252FF90>"
      ]
     },
     "execution_count": 7,
     "metadata": {},
     "output_type": "execute_result"
    }
   ],
   "source": [
    "test_fib(10)"
   ]
  },
  {
   "cell_type": "code",
   "execution_count": 11,
   "id": "5f3b7c27",
   "metadata": {},
   "outputs": [
    {
     "name": "stdout",
     "output_type": "stream",
     "text": [
      "0\n",
      "1\n",
      "1\n",
      "2\n",
      "3\n",
      "5\n",
      "8\n",
      "13\n",
      "21\n",
      "34\n"
     ]
    }
   ],
   "source": [
    "for i in test_fib(10):   #GENERATOR FUNCTION\n",
    "    print(i)"
   ]
  },
  {
   "cell_type": "markdown",
   "id": "cbc08f38",
   "metadata": {},
   "source": [
    "# Q6. Write a python program to print the first 10 Fibonacci numbers using a while loop."
   ]
  },
  {
   "cell_type": "code",
   "execution_count": 27,
   "id": "acfe9a4f",
   "metadata": {},
   "outputs": [],
   "source": [
    "def test_fib1():\n",
    "    a,b = 0,1\n",
    "    while True:\n",
    "        yield a\n",
    "        a,b= b,a+b"
   ]
  },
  {
   "cell_type": "code",
   "execution_count": 28,
   "id": "91bbd0ec",
   "metadata": {},
   "outputs": [],
   "source": [
    "fib= test_fib1()"
   ]
  },
  {
   "cell_type": "code",
   "execution_count": 29,
   "id": "66e059b9",
   "metadata": {},
   "outputs": [
    {
     "name": "stdout",
     "output_type": "stream",
     "text": [
      "0\n",
      "1\n",
      "1\n",
      "2\n",
      "3\n",
      "5\n",
      "8\n",
      "13\n",
      "21\n",
      "34\n"
     ]
    }
   ],
   "source": [
    "for i in range(10):\n",
    "    print(next(fib))"
   ]
  },
  {
   "cell_type": "markdown",
   "id": "2f63dea8",
   "metadata": {},
   "source": [
    "# Q3.  What is an iterator in python? Name the method used to initialise the iterator object and the method \n",
    "### used for iteration. Use these methods to print the first five elements of the given list [2, 4, 6, 8, 10, 12, 14, \n",
    "### 16, 18, 20]."
   ]
  },
  {
   "cell_type": "markdown",
   "id": "e4ab5a36",
   "metadata": {},
   "source": [
    "## ans:- String object is not an iterator that means of string object is not this types of or string is this not type of variable.In this you are not allow to execute next next next."
   ]
  },
  {
   "cell_type": "code",
   "execution_count": 18,
   "id": "68ce27af",
   "metadata": {},
   "outputs": [],
   "source": [
    "s = [2, 4, 6, 8, 10, 12, 14,16,18,20]"
   ]
  },
  {
   "cell_type": "code",
   "execution_count": 19,
   "id": "fc812788",
   "metadata": {},
   "outputs": [],
   "source": [
    "s1 = iter(s)"
   ]
  },
  {
   "cell_type": "code",
   "execution_count": 20,
   "id": "a27ceb4c",
   "metadata": {},
   "outputs": [
    {
     "data": {
      "text/plain": [
       "list_iterator"
      ]
     },
     "execution_count": 20,
     "metadata": {},
     "output_type": "execute_result"
    }
   ],
   "source": [
    "type(s1)"
   ]
  },
  {
   "cell_type": "code",
   "execution_count": 21,
   "id": "a061bfa1",
   "metadata": {},
   "outputs": [
    {
     "data": {
      "text/plain": [
       "2"
      ]
     },
     "execution_count": 21,
     "metadata": {},
     "output_type": "execute_result"
    }
   ],
   "source": [
    "next(s1)"
   ]
  },
  {
   "cell_type": "code",
   "execution_count": 22,
   "id": "8ed517d4",
   "metadata": {},
   "outputs": [
    {
     "data": {
      "text/plain": [
       "4"
      ]
     },
     "execution_count": 22,
     "metadata": {},
     "output_type": "execute_result"
    }
   ],
   "source": [
    "next(s1)"
   ]
  },
  {
   "cell_type": "code",
   "execution_count": 23,
   "id": "84bedc55",
   "metadata": {},
   "outputs": [
    {
     "data": {
      "text/plain": [
       "6"
      ]
     },
     "execution_count": 23,
     "metadata": {},
     "output_type": "execute_result"
    }
   ],
   "source": [
    "next(s1)"
   ]
  },
  {
   "cell_type": "code",
   "execution_count": 24,
   "id": "2ae84f23",
   "metadata": {},
   "outputs": [
    {
     "data": {
      "text/plain": [
       "8"
      ]
     },
     "execution_count": 24,
     "metadata": {},
     "output_type": "execute_result"
    }
   ],
   "source": [
    "next(s1)"
   ]
  },
  {
   "cell_type": "code",
   "execution_count": 25,
   "id": "770fd42d",
   "metadata": {},
   "outputs": [
    {
     "data": {
      "text/plain": [
       "10"
      ]
     },
     "execution_count": 25,
     "metadata": {},
     "output_type": "execute_result"
    }
   ],
   "source": [
    "next(s1)"
   ]
  },
  {
   "cell_type": "markdown",
   "id": "773a00f3",
   "metadata": {},
   "source": [
    "## Q5. Create a generator function for prime numbers less than 1000. Use the next() method to print the first 20 prime numbers"
   ]
  },
  {
   "cell_type": "code",
   "execution_count": 57,
   "id": "3cecb864",
   "metadata": {},
   "outputs": [
    {
     "name": "stdout",
     "output_type": "stream",
     "text": [
      "2\n",
      "3\n",
      "5\n",
      "7\n",
      "11\n",
      "13\n",
      "17\n",
      "19\n",
      "23\n",
      "29\n",
      "31\n",
      "37\n",
      "41\n",
      "43\n",
      "47\n",
      "53\n",
      "59\n",
      "61\n",
      "67\n",
      "71\n"
     ]
    }
   ],
   "source": [
    "def generate_primes():\n",
    "    primes =[]\n",
    "    num = 2\n",
    "    \n",
    "    \n",
    "    while num<1000:\n",
    "        is_prime = True\n",
    "        for prime in primes:\n",
    "            if num % prime==0:\n",
    "                is_prime =False\n",
    "                break\n",
    "        if is_prime:\n",
    "            primes.append(num)\n",
    "            yield num\n",
    "        num+=1\n",
    "    \n",
    "prime_generator = generate_primes()\n",
    "\n",
    "for _ in range(20):\n",
    "    prime = next(prime_generator)\n",
    "    print(prime)\n",
    "  "
   ]
  },
  {
   "cell_type": "code",
   "execution_count": null,
   "id": "7a9b4c21",
   "metadata": {},
   "outputs": [],
   "source": []
  }
 ],
 "metadata": {
  "kernelspec": {
   "display_name": "Python 3 (ipykernel)",
   "language": "python",
   "name": "python3"
  },
  "language_info": {
   "codemirror_mode": {
    "name": "ipython",
    "version": 3
   },
   "file_extension": ".py",
   "mimetype": "text/x-python",
   "name": "python",
   "nbconvert_exporter": "python",
   "pygments_lexer": "ipython3",
   "version": "3.9.12"
  }
 },
 "nbformat": 4,
 "nbformat_minor": 5
}
